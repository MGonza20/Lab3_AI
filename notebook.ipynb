{
 "cells": [
  {
   "attachments": {},
   "cell_type": "markdown",
   "metadata": {},
   "source": [
    "#Laboratorio 3 - Regresión lineal\n",
    "####Sara Paguaga 20634"
   ]
  },
  {
   "attachments": {},
   "cell_type": "markdown",
   "metadata": {},
   "source": [
    "##Task 1.1 \n",
    "####Leer el archivo CSV y almacenarlo en np.array"
   ]
  },
  {
   "cell_type": "code",
   "execution_count": 107,
   "metadata": {},
   "outputs": [],
   "source": [
    "with open(\"kc_house_data.csv\", \"r\") as f:\n",
    "    data = f.readlines()\n",
    "house_data = [line.strip().split(\",\") for line in data]\n"
   ]
  },
  {
   "cell_type": "code",
   "execution_count": 108,
   "metadata": {},
   "outputs": [],
   "source": [
    "import numpy as np\n",
    "np_array = np.array(house_data[1:])"
   ]
  },
  {
   "attachments": {},
   "cell_type": "markdown",
   "metadata": {},
   "source": [
    "##Task 1.2 \n",
    "####Ajustar un modelo polinomial (regresión lineal) en base al juego de datos cargado de forma matricial que relaciona las variables de precio con los pies cuadrados del espacio habitable interior de los apartamentos (price - sqft living)."
   ]
  },
  {
   "cell_type": "code",
   "execution_count": 109,
   "metadata": {},
   "outputs": [],
   "source": [
    "#Convertiendo valores a float\n",
    "sqft_living_num = np.array([float(i) for i in np_array[:, 5]])\n",
    "price_num = np.array([np.array([float(i)]) for i in np_array[:, 2]])"
   ]
  },
  {
   "cell_type": "code",
   "execution_count": 110,
   "metadata": {},
   "outputs": [],
   "source": [
    "# Obteniendo el tamaño, límite y sparse ratio del dataset\n",
    "DATASET_SIZE, DATASET_X_LIM = np_array.shape\n",
    "DATASET_SPARSE_RATIO = (np.max(sqft_living_num) - np.min(sqft_living_num))"
   ]
  },
  {
   "cell_type": "code",
   "execution_count": 111,
   "metadata": {},
   "outputs": [],
   "source": [
    "# Definiendo función para obtener regresion lineal\n",
    "def linreg(X, y, t, cost, grad, a=0.1, n=100, on_step=None):\n",
    "    costs = []\n",
    "    for i in range(n):\n",
    "        t -= a * grad(X, y, t)\n",
    "        costs.append(cost(X, y, t))\n",
    "\n",
    "        if on_step:\n",
    "            on_step(t)\n",
    "            \n",
    "    return t, costs  \n",
    "\n",
    "# Definiendo funciones de costo y gradiente\n",
    "cost = lambda X, y, t: ((X @ t - y) **2).sum() / len(y)\n",
    "grad = lambda X, y, t: 2 * X.T @ (X @ t - y) / len(y)"
   ]
  },
  {
   "cell_type": "code",
   "execution_count": 112,
   "metadata": {},
   "outputs": [],
   "source": [
    "def get_dataset():\n",
    "    X = price_num.reshape((DATASET_SIZE, 1))\n",
    "    Xr = np.hstack((\n",
    "        np.ones((DATASET_SIZE, 1)),\n",
    "        X\n",
    "    ))\n",
    "    y = price_num\n",
    "    return Xr, y"
   ]
  },
  {
   "cell_type": "code",
   "execution_count": 113,
   "metadata": {},
   "outputs": [],
   "source": [
    "# Obteniendo como variables el dataset\n",
    "Xr, y = get_dataset()"
   ]
  },
  {
   "cell_type": "code",
   "execution_count": 114,
   "metadata": {},
   "outputs": [
    {
     "name": "stdout",
     "output_type": "stream",
     "text": [
      "Tf:  [[-2.27191359e+200]\n",
      " [-1.79397763e+206]]\n"
     ]
    },
    {
     "name": "stderr",
     "output_type": "stream",
     "text": [
      "C:\\Users\\sarap\\AppData\\Local\\Temp\\ipykernel_45968\\2296165962.py:14: RuntimeWarning: overflow encountered in square\n",
      "  cost = lambda X, y, t: ((X @ t - y) **2).sum() / len(y)\n"
     ]
    }
   ],
   "source": [
    "to = np.random.rand(Xr.shape[1], 1)\n",
    "tf, costs = linreg(\n",
    "    Xr,\n",
    "    y,\n",
    "    to,\n",
    "    cost,\n",
    "    grad, \n",
    "    a=0.025, \n",
    "    n=20\n",
    ")\n",
    "\n",
    "print(\"Tf: \", tf)"
   ]
  },
  {
   "cell_type": "code",
   "execution_count": 115,
   "metadata": {},
   "outputs": [],
   "source": [
    "import matplotlib.pyplot as plt"
   ]
  },
  {
   "cell_type": "code",
   "execution_count": 120,
   "metadata": {},
   "outputs": [
    {
     "data": {
      "image/png": "[encoded data removed]",
      "text/plain": [
       "<Figure size 640x480 with 1 Axes>"
      ]
     },
     "metadata": {},
     "output_type": "display_data"
    }
   ],
   "source": [
    "xm = np.array([[0], [DATASET_X_LIM]])\n",
    "xmr = np.hstack((\n",
    "    np.ones((2, 1)),\n",
    "    xm\n",
    "))\n",
    "ym = xmr @ tf\n",
    "\n",
    "plt.plot(Xr[:, 1], y, 'ro')\n",
    "plt.plot(xm, ym)\n",
    "plt.show()\n",
    "\n",
    "plt.plot(costs)\n",
    "plt.show()"
   ]
  }
 ],
 "metadata": {
  "kernelspec": {
   "display_name": "Python 3",
   "language": "python",
   "name": "python3"
  },
  "language_info": {
   "codemirror_mode": {
    "name": "ipython",
    "version": 3
   },
   "file_extension": ".py",
   "mimetype": "text/x-python",
   "name": "python",
   "nbconvert_exporter": "python",
   "pygments_lexer": "ipython3",
   "version": "3.10.8"
  },
  "orig_nbformat": 4
 },
 "nbformat": 4,
 "nbformat_minor": 2
}
