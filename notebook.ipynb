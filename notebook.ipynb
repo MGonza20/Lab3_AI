{
 "cells": [
  {
   "attachments": {},
   "cell_type": "markdown",
   "metadata": {},
   "source": [
    "#Laboratorio 3 - Regresión lineal\n",
    "####Sara Paguaga 20634"
   ]
  },
  {
   "attachments": {},
   "cell_type": "markdown",
   "metadata": {},
   "source": [
    "##Task 1.1 \n",
    "####Leer el archivo CSV y almacenarlo en np.array"
   ]
  },
  {
   "cell_type": "code",
   "execution_count": null,
   "metadata": {},
   "outputs": [],
   "source": [
    "with open(\"kc_house_data.csv\", \"r\") as f:\n",
    "    data = f.readlines()\n",
    "house_data = [line.strip().split(\",\") for line in data]\n"
   ]
  },
  {
   "cell_type": "code",
   "execution_count": 17,
   "metadata": {},
   "outputs": [],
   "source": [
    "import numpy as np\n",
    "np_array = np.array(house_data[1:])"
   ]
  },
  {
   "cell_type": "code",
   "execution_count": 20,
   "metadata": {},
   "outputs": [
    {
     "data": {
      "text/plain": [
       "array([['\"7129300520\"', '\"20141013T000000\"', '221900', ..., '-122.257',\n",
       "        '1340', '5650'],\n",
       "       ['\"6414100192\"', '\"20141209T000000\"', '538000', ..., '-122.319',\n",
       "        '1690', '7639'],\n",
       "       ['\"5631500400\"', '\"20150225T000000\"', '180000', ..., '-122.233',\n",
       "        '2720', '8062'],\n",
       "       ...,\n",
       "       ['\"1523300141\"', '\"20140623T000000\"', '402101', ..., '-122.299',\n",
       "        '1020', '2007'],\n",
       "       ['\"0291310100\"', '\"20150116T000000\"', '400000', ..., '-122.069',\n",
       "        '1410', '1287'],\n",
       "       ['\"1523300157\"', '\"20141015T000000\"', '325000', ..., '-122.299',\n",
       "        '1020', '1357']], dtype='<U17')"
      ]
     },
     "execution_count": 20,
     "metadata": {},
     "output_type": "execute_result"
    }
   ],
   "source": [
    "np_array"
   ]
  },
  {
   "attachments": {},
   "cell_type": "markdown",
   "metadata": {},
   "source": [
    "##Task 1.2 \n",
    "####Ajustar un modelo polinomial (regresión lineal) en base al juego de datos cargado de forma matricial que relaciona las variables de precio con los pies cuadrados del espacio habitable interior de los apartamentos (price - sqft living)."
   ]
  }
 ],
 "metadata": {
  "kernelspec": {
   "display_name": "Python 3",
   "language": "python",
   "name": "python3"
  },
  "language_info": {
   "codemirror_mode": {
    "name": "ipython",
    "version": 3
   },
   "file_extension": ".py",
   "mimetype": "text/x-python",
   "name": "python",
   "nbconvert_exporter": "python",
   "pygments_lexer": "ipython3",
   "version": "3.10.8"
  },
  "orig_nbformat": 4
 },
 "nbformat": 4,
 "nbformat_minor": 2
}
